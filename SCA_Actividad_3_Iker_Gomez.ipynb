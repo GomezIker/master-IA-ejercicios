{
  "nbformat": 4,
  "nbformat_minor": 0,
  "metadata": {
    "colab": {
      "name": "SCA-Actividad_3-Iker-Gomez.ipynb",
      "provenance": [],
      "include_colab_link": true
    },
    "kernelspec": {
      "display_name": "Python 3 (system-wide)",
      "language": "python",
      "metadata": {
        "cocalc": {
          "description": "Python 3 programming language",
          "priority": 100,
          "url": "https://www.python.org/"
        }
      },
      "name": "python3"
    },
    "language_info": {
      "codemirror_mode": {
        "name": "ipython",
        "version": 3
      },
      "file_extension": ".py",
      "mimetype": "text/x-python",
      "name": "python",
      "nbconvert_exporter": "python",
      "pygments_lexer": "ipython3",
      "version": "3.8.5"
    }
  },
  "cells": [
    {
      "cell_type": "markdown",
      "metadata": {
        "id": "view-in-github",
        "colab_type": "text"
      },
      "source": [
        "<a href=\"https://colab.research.google.com/github/GomezIker/master-IA-ejercicios/blob/main/SCA_Actividad_3_Iker_Gomez.ipynb\" target=\"_parent\"><img src=\"https://colab.research.google.com/assets/colab-badge.svg\" alt=\"Open In Colab\"/></a>"
      ]
    },
    {
      "cell_type": "markdown",
      "metadata": {
        "collapsed": false,
        "id": "2yKYAEOUB70s"
      },
      "source": [
        "# Actividad 3: RNN y sus aplicaciones en las series temporales\n",
        "\n",
        "En esta actividad se va a aplicar el conocimiento adquirido sobre las RNN para entrenar modelos que sean capaces de predecir el comportamiento de las series temporales. Para ello, se usará un dataset de temperaturas para mediante la aplicación de RNN, predecir los valores futuros que tendrá la serie temporal que se tiene. Este trabajo se suele hacer mediante modelos ARIMA, pero en esta práctica se verá cómo el modelado mediante RNN es una opción muy buena en estos casos de series temporales."
      ]
    },
    {
      "cell_type": "markdown",
      "metadata": {
        "collapsed": false,
        "id": "IW24cRGrCrXZ"
      },
      "source": [
        "**1. Descargar el dataset y almacenarlo**\n",
        "\n",
        "En primer lugar hay que importar tensorflow."
      ]
    },
    {
      "cell_type": "code",
      "metadata": {
        "colab": {
          "base_uri": "https://localhost:8080/"
        },
        "id": "loO19CfCYC2V",
        "outputId": "d8a97fcf-0b37-4d59-b4d0-9701a1b7c7e7"
      },
      "source": [
        "import tensorflow as tf\n",
        "print(tf.__version__)"
      ],
      "execution_count": 1,
      "outputs": [
        {
          "output_type": "stream",
          "text": [
            "2.5.0\n"
          ],
          "name": "stdout"
        }
      ]
    },
    {
      "cell_type": "markdown",
      "metadata": {
        "collapsed": false,
        "id": "0ZTs4Cd0C49G"
      },
      "source": [
        "El siguiente paso es importar las bibliotecas numpy y matplotlib. Además, se define el método **plot_series** que se utilizará para hacer las gráficas de las series temporales."
      ]
    },
    {
      "cell_type": "code",
      "metadata": {
        "id": "gLNhTOGEYDbQ"
      },
      "source": [
        "import numpy as np\n",
        "import matplotlib.pyplot as plt\n",
        "def plot_series(time, series, format=\"-\", start=0, end=None):\n",
        "    plt.plot(time[start:end], series[start:end], format)\n",
        "    plt.xlabel(\"Time\")\n",
        "    plt.ylabel(\"Value\")\n",
        "    plt.grid(True)"
      ],
      "execution_count": 2,
      "outputs": []
    },
    {
      "cell_type": "markdown",
      "metadata": {
        "collapsed": false,
        "id": "8jbJP279DJha"
      },
      "source": [
        "A continuación se descarga el dataset de las temperaturas mínimas diarias."
      ]
    },
    {
      "cell_type": "code",
      "metadata": {
        "id": "AsXBJEeqYFbn",
        "colab": {
          "base_uri": "https://localhost:8080/"
        },
        "outputId": "41c06a75-e013-46ab-db1e-7ac538693549"
      },
      "source": [
        "!wget --no-check-certificate \\\n",
        "    https://raw.githubusercontent.com/jbrownlee/Datasets/master/daily-min-temperatures.csv \\\n",
        "    -O /tmp/daily-min-temperatures.csv"
      ],
      "execution_count": 3,
      "outputs": [
        {
          "output_type": "stream",
          "text": [
            "--2021-06-07 17:07:49--  https://raw.githubusercontent.com/jbrownlee/Datasets/master/daily-min-temperatures.csv\n",
            "Resolving raw.githubusercontent.com (raw.githubusercontent.com)... 185.199.110.133, 185.199.108.133, 185.199.111.133, ...\n",
            "Connecting to raw.githubusercontent.com (raw.githubusercontent.com)|185.199.110.133|:443... connected.\n",
            "HTTP request sent, awaiting response... 200 OK\n",
            "Length: 67921 (66K) [text/plain]\n",
            "Saving to: ‘/tmp/daily-min-temperatures.csv’\n",
            "\n",
            "/tmp/daily-min-temp 100%[===================>]  66.33K  --.-KB/s    in 0.01s   \n",
            "\n",
            "2021-06-07 17:07:49 (5.83 MB/s) - ‘/tmp/daily-min-temperatures.csv’ saved [67921/67921]\n",
            "\n"
          ],
          "name": "stdout"
        }
      ]
    },
    {
      "cell_type": "markdown",
      "metadata": {
        "collapsed": false,
        "id": "jufo30y2DOIS"
      },
      "source": [
        "En este paso, se utilizará la biblioteca csv de Python para guardar y poder leer el dataset de temperaturas mínimas diarias que ha sido descargado en el paso anterior. Además, se construye la variable **series** que será donde se guarde la serie temporal. Por último, siempre que se trate con una serie temporal, es una buena práctica hacer un gráfico para poder verla y tener una idea de cómo es."
      ]
    },
    {
      "cell_type": "code",
      "metadata": {
        "id": "bUBTwlu82nNE"
      },
      "source": [
        ""
      ],
      "execution_count": 3,
      "outputs": []
    },
    {
      "cell_type": "code",
      "metadata": {
        "id": "no85DGrbYHUM",
        "colab": {
          "base_uri": "https://localhost:8080/",
          "height": 388
        },
        "outputId": "9187d8d7-3612-424f-9356-1ec90df50d85"
      },
      "source": [
        "\n",
        "import csv\n",
        "time_step = []\n",
        "temps = []\n",
        "\n",
        "with open('/tmp/daily-min-temperatures.csv') as csvfile:\n",
        "  reader = csv.reader(csvfile, delimiter=',')\n",
        "  next(reader)\n",
        "  step=0\n",
        "  for row in reader:\n",
        "    temps.append(float(row[1]))\n",
        "    time_step.append(step)\n",
        "    step = step + 1\n",
        "\n",
        "series = np.array(temps)\n",
        "time = np.array(time_step)\n",
        "plt.figure(figsize=(10, 6))\n",
        "plot_series(time, series)"
      ],
      "execution_count": 4,
      "outputs": [
        {
          "output_type": "display_data",
          "data": {
            "image/png": "[encoded data removed]",
            "text/plain": [
              "<Figure size 720x432 with 1 Axes>"
            ]
          },
          "metadata": {
            "tags": [],
            "needs_background": "light"
          }
        }
      ]
    },
    {
      "cell_type": "markdown",
      "metadata": {
        "collapsed": false,
        "id": "kyejfTbWL5Km"
      },
      "source": [
        "# 2. Creación de las variables necesarias para el diseño de la red neuronal"
      ]
    },
    {
      "cell_type": "markdown",
      "metadata": {
        "collapsed": false,
        "id": "CtvcOIk1Dxod"
      },
      "source": [
        "Una técnica muy común cuando se trata con series temporales es utilizar una ventana temporal que se vaya desplazando sobre la serie temporal para reducir su análisis a lo que ocurre en ese ventana de forma local, para a continuación realizar el modelado global.\n",
        "\n",
        "**Ejercicio 1 (0.4 puntos)**: Crear las variables de entrenamiento y validación y hacer la partición de las mismas. Las variables que hay que crear son:\n",
        "\n",
        "*   time_train\n",
        "*   x_train\n",
        "*   time_valid\n",
        "*   x_valid\n",
        "\n",
        "\n",
        "\n"
      ]
    },
    {
      "cell_type": "code",
      "metadata": {
        "id": "IjiQ6hCWYI47"
      },
      "source": [
        "## variables para la técnica de la ventana temporal\n",
        "split_time = 2500\n",
        "window_size = 30\n",
        "batch_size = 32\n",
        "shuffle_buffer_size = 1000\n",
        "\n",
        "## Split del dataset en entrenamiento y validación\n",
        "\n",
        "## tu código para la creación de las 4 variables del ejercicio 1 aquí\n",
        "time_train = time[:split_time]\n",
        "x_train = series[:split_time]\n",
        "time_valid = time[split_time:]\n",
        "x_valid = series[split_time:]"
      ],
      "execution_count": 5,
      "outputs": []
    },
    {
      "cell_type": "markdown",
      "metadata": {
        "collapsed": false,
        "id": "qk5l4wEPFmDM"
      },
      "source": [
        "2. Creación del método **windowed_datset** para poder utilizarlo en el modelo. Las entradas por parámetros del método son:\n",
        "\n",
        "*   series\n",
        "*   window_size\n",
        "*   batch_size\n",
        "*   shuffle_buffer\n",
        "\n",
        "El resto de elementos que se usan para construir la función ventana temporal para explorar el dataset, son métodos de Python para tratar con series temporales.\n",
        "\n",
        "\n"
      ]
    },
    {
      "cell_type": "markdown",
      "metadata": {
        "collapsed": false,
        "id": "AxzoP0UXL_jP"
      },
      "source": [
        "# 3. Diseño de la función para predecir los siguientes valores de la serie temporal usando la técnica de la ventana temporal"
      ]
    },
    {
      "cell_type": "code",
      "metadata": {
        "id": "40vSdZ7pYK6S"
      },
      "source": [
        "def windowed_dataset(series, window_size, batch_size, shuffle_buffer):\n",
        "    series = tf.expand_dims(series, axis=-1)\n",
        "    ds = tf.data.Dataset.from_tensor_slices(series)\n",
        "    ds = ds.window(window_size + 1, shift=1, drop_remainder=True)\n",
        "    ds = ds.flat_map(lambda w: w.batch(window_size + 1))\n",
        "    ds = ds.shuffle(shuffle_buffer)\n",
        "    ds = ds.map(lambda w: (w[:-1], w[1:]))\n",
        "    return ds.batch(batch_size).prefetch(1)"
      ],
      "execution_count": 6,
      "outputs": []
    },
    {
      "cell_type": "code",
      "metadata": {
        "colab": {
          "base_uri": "https://localhost:8080/"
        },
        "id": "L-InehlyMEwu",
        "outputId": "49aa3b67-f076-4bdd-bfa0-c9b50bc30bd1"
      },
      "source": [
        "a = tf.expand_dims(series, axis=-1)\n",
        "ds = tf.data.Dataset.from_tensor_slices(series)\n",
        "ds"
      ],
      "execution_count": 7,
      "outputs": [
        {
          "output_type": "execute_result",
          "data": {
            "text/plain": [
              "<TensorSliceDataset shapes: (), types: tf.float64>"
            ]
          },
          "metadata": {
            "tags": []
          },
          "execution_count": 7
        }
      ]
    },
    {
      "cell_type": "code",
      "metadata": {
        "colab": {
          "base_uri": "https://localhost:8080/"
        },
        "id": "7iiMIYcNnxNf",
        "outputId": "a5e00e4c-2753-4fba-893d-9fc199cc9e87"
      },
      "source": [
        "series"
      ],
      "execution_count": 21,
      "outputs": [
        {
          "output_type": "execute_result",
          "data": {
            "text/plain": [
              "array([20.7, 17.9, 18.8, ..., 13.5, 15.7, 13. ])"
            ]
          },
          "metadata": {
            "tags": []
          },
          "execution_count": 21
        }
      ]
    },
    {
      "cell_type": "markdown",
      "metadata": {
        "collapsed": false,
        "id": "TpTqdDfYGf_W"
      },
      "source": [
        "A continuación, y usando como modelo el método **windowed_dataset** se procederá a adaptar el método **model_forecast** que se usará para predecir los siguientes valores de la serie temporal utilizando la técnica de la ventana temporal.\n",
        "\n",
        "**Ejercicio 2 (1.6 puntos)**: completar el método model_forecast creando los elementos necesarios dentro del método:\n",
        "\n",
        "1.   Crear la variable **ds** y darle el valor resultante del método **from_tensor_slices** pasando por parametro **series** **(0.4 puntos)**\n",
        "2.   Actualizar la ventana (**window**) de la variable **ds** (nota: en este caso el tamaño es el mismo de la ventana, no es necesario que sea window_size+1) **(0.4 puntos)**\n",
        "3.   Crear el **flat_map** de la variable, teniendo en cuenta que el tamaño es **window_size** **(0.4 puntos)**\n",
        "4.   Añadir la siguiente linea de código: ds = ds.batch(32).prefetch(1)\n",
        "5.   Crear la variable **forecast** en la que se usará el método **predict** **(0.4 puntos)**\n",
        "6.   Por último, se devolverá la variable forecast.\n",
        "\n",
        "\n"
      ]
    },
    {
      "cell_type": "code",
      "metadata": {
        "id": "1eYlrylwYNqa"
      },
      "source": [
        "def model_forecast(model, series, window_size):\n",
        "## tu código para el método model_forecast del ejercicio 2 aquí\n",
        "  ds = tf.data.Dataset.from_tensor_slices(series)\n",
        "  ds = ds.window(window_size, shift=1, drop_remainder=True)\n",
        "  ds = ds.flat_map(lambda w: w.batch(window_size))\n",
        "  ds = ds.batch(32).prefetch(1)\n",
        "  # Esto de aquí no está muy claro que esté bien\n",
        "  forecast = []\n",
        "  for time in range(len(series) - window_size):\n",
        "    forecast.append(model.predict(series[time:time + window_size][np.newaxis]))\n",
        "  return forecast"
      ],
      "execution_count": 22,
      "outputs": []
    },
    {
      "cell_type": "markdown",
      "metadata": {
        "collapsed": false,
        "id": "SY2SZ_GsJBx4"
      },
      "source": [
        "A continuación, se limpia la sesión de keras, y se inicializan las variables necesarias para poder diseñar el modelo de series temporales a entrenar usando RNN."
      ]
    },
    {
      "cell_type": "code",
      "metadata": {
        "id": "DAUtfBB9JR2p"
      },
      "source": [
        "tf.keras.backend.clear_session()\n",
        "tf.random.set_seed(51)\n",
        "np.random.seed(51)\n",
        "window_size = 64\n",
        "batch_size = 256"
      ],
      "execution_count": 9,
      "outputs": []
    },
    {
      "cell_type": "markdown",
      "metadata": {
        "collapsed": false,
        "id": "4mOXrfFVMKRA"
      },
      "source": [
        "# 4. Diseño de la red neuronal"
      ]
    },
    {
      "cell_type": "markdown",
      "metadata": {
        "collapsed": false,
        "id": "T6YG9YclJk9n"
      },
      "source": [
        "**Ejercicio 3.1 (0.5 puntos)**: Hay que crear la variable **train_set** dandole el valor que se reciba del método **windowed_datset**, los parametros que debe recibir este método son: **x_train, window_size, batch_size, shuffle_buffer_size**"
      ]
    },
    {
      "cell_type": "code",
      "metadata": {
        "id": "iqgS7tu5JUc5"
      },
      "source": [
        "## tu código aquí para el ejercicio 3\n",
        "train_set = windowed_dataset(x_train, window_size, batch_size, shuffle_buffer_size)"
      ],
      "execution_count": 10,
      "outputs": []
    },
    {
      "cell_type": "markdown",
      "metadata": {
        "collapsed": false,
        "id": "SgrrsFHxKVWO"
      },
      "source": [
        "**Ejercicio 3.2 (4 puntos)**: Se debe construir la red neuronal de aprendizaje profunda basada para modelar la serie temporal de las temperaturas minimas diarias. Esta red neuronal debera contar con las siguientes capas ocultas:\n",
        "\n",
        "1.   Una capa de convolución en una dimensión que tenga 32 filtros, una tamaño del kernel de 5, un stride de 1, padding \"causal\", la función de activación debe ser relu y el input shape debe ser [None, 1] \n",
        "2.   Una capa LSTM con 64 neuronas y retorno de secuencias \n",
        "3.   Una capa LSTM con 64 neuronas y retorno de secuencias \n",
        "4.   Una capa densa con 30 neuronas\n",
        "5.   Una capa densa con 10 neuronas\n",
        "6.   Una capa densa con 1 neuronas\n",
        "7.   Por último, se añade la siguiente capa: tf.keras.layers.Lambda(lambda x: x * 400)\n",
        "\n",
        "\n"
      ]
    },
    {
      "cell_type": "code",
      "metadata": {
        "id": "yswRAtQ6JWvd"
      },
      "source": [
        "## tu código para la red neuronal del ejercicio 4 aquí\n",
        "model = tf.keras.models.Sequential([\n",
        "  tf.keras.layers.Conv1D(32, 5, strides=1, padding=\"causal\", activation='relu', input_shape=(None, 1)),\n",
        "  tf.keras.layers.Bidirectional(tf.keras.layers.LSTM(64, return_sequences=True)),\n",
        "  tf.keras.layers.Bidirectional(tf.keras.layers.LSTM(64, return_sequences=True)),\n",
        "  tf.keras.layers.Dense(30),\n",
        "  tf.keras.layers.Dense(10),\n",
        "  tf.keras.layers.Dense(1),\n",
        "  tf.keras.layers.Lambda(lambda x: x * 400.0)\n",
        "])"
      ],
      "execution_count": 11,
      "outputs": []
    },
    {
      "cell_type": "markdown",
      "metadata": {
        "collapsed": false,
        "id": "W3VhCNbVLyPj"
      },
      "source": [
        "# 5. Entrenamiento de la red neuronal"
      ]
    },
    {
      "cell_type": "markdown",
      "metadata": {
        "collapsed": false,
        "id": "IvaUY4TmMUpa"
      },
      "source": [
        "**Ejercicio 4 (0.5 puntos)**: Se va a diseñar un método callbacks para el learning rate que será guardado en la variable **lr_schedule**, este método deberá usar el método **LearningRateScheduler** de Python y será una función **lambda** que le de el valor a epoch de 1e-8 * 10**(epoch / 20) **texto en negrita** "
      ]
    },
    {
      "cell_type": "code",
      "metadata": {
        "id": "s8YmUm3WJZdm"
      },
      "source": [
        "## tu código para crear la variable lr_schedule aquí\n",
        "lr_schedule = tf.keras.callbacks.LearningRateScheduler(\n",
        "    lambda epoch: 1e-8 * 10**(epoch / 20)) "
      ],
      "execution_count": 12,
      "outputs": []
    },
    {
      "cell_type": "markdown",
      "metadata": {
        "collapsed": false,
        "id": "g6xI_87qNgzg"
      },
      "source": [
        "**Ejercicio 5 (1.5 puntos):** Compilar la red neuronal con los siguientes parametros:\n",
        "\n",
        "*   loss: método Huber de keras\n",
        "*   El optimizador debe ser el SGD con learning rate 1e-8 y momentum 0.9\n",
        "*   La métrica a visualizar es el error absoluto medio (medium absolute error en ingles)\n",
        "\n"
      ]
    },
    {
      "cell_type": "code",
      "metadata": {
        "id": "vYCGYDj3OI97"
      },
      "source": [
        "## tu código para compilar la red neuronal para el ejercicio 5 aquí\n",
        "optimizer = tf.keras.optimizers.SGD(learning_rate=1e-8, momentum=0.9)\n",
        "model.compile(loss=tf.keras.losses.Huber(),\n",
        "              optimizer=optimizer,\n",
        "              metrics=[\"mae\"])"
      ],
      "execution_count": 13,
      "outputs": []
    },
    {
      "cell_type": "markdown",
      "metadata": {
        "collapsed": false,
        "id": "kYcl-m5_ORq0"
      },
      "source": [
        "Para terminar se entrena el modelo previamente diseñado y compilado en los pasos anteriores."
      ]
    },
    {
      "cell_type": "code",
      "metadata": {
        "id": "P8788Rd6YXDm",
        "colab": {
          "base_uri": "https://localhost:8080/"
        },
        "outputId": "303ada1e-bd08-41e9-b4f8-1f9a4c503086"
      },
      "source": [
        "history = model.fit(train_set, epochs=100, callbacks=[lr_schedule])"
      ],
      "execution_count": 14,
      "outputs": [
        {
          "output_type": "stream",
          "text": [
            "Epoch 1/100\n",
            "10/10 [==============================] - 13s 640ms/step - loss: 142.9875 - mae: 143.4875\n",
            "Epoch 2/100\n",
            "10/10 [==============================] - 7s 628ms/step - loss: 132.7654 - mae: 133.2654\n",
            "Epoch 3/100\n",
            "10/10 [==============================] - 7s 629ms/step - loss: 117.1162 - mae: 117.6162\n",
            "Epoch 4/100\n",
            "10/10 [==============================] - 7s 634ms/step - loss: 98.0882 - mae: 98.5882\n",
            "Epoch 5/100\n",
            "10/10 [==============================] - 7s 630ms/step - loss: 76.2207 - mae: 76.7207\n",
            "Epoch 6/100\n",
            "10/10 [==============================] - 7s 634ms/step - loss: 51.9247 - mae: 52.4243\n",
            "Epoch 7/100\n",
            "10/10 [==============================] - 7s 634ms/step - loss: 29.7163 - mae: 30.2135\n",
            "Epoch 8/100\n",
            "10/10 [==============================] - 7s 637ms/step - loss: 20.9994 - mae: 21.4952\n",
            "Epoch 9/100\n",
            "10/10 [==============================] - 7s 630ms/step - loss: 20.2529 - mae: 20.7480\n",
            "Epoch 10/100\n",
            "10/10 [==============================] - 7s 632ms/step - loss: 18.8045 - mae: 19.2993\n",
            "Epoch 11/100\n",
            "10/10 [==============================] - 7s 630ms/step - loss: 16.9061 - mae: 17.4001\n",
            "Epoch 12/100\n",
            "10/10 [==============================] - 7s 629ms/step - loss: 15.4004 - mae: 15.8933\n",
            "Epoch 13/100\n",
            "10/10 [==============================] - 7s 627ms/step - loss: 13.8455 - mae: 14.3378\n",
            "Epoch 14/100\n",
            "10/10 [==============================] - 7s 629ms/step - loss: 12.4108 - mae: 12.9017\n",
            "Epoch 15/100\n",
            "10/10 [==============================] - 7s 630ms/step - loss: 11.0918 - mae: 11.5808\n",
            "Epoch 16/100\n",
            "10/10 [==============================] - 7s 636ms/step - loss: 9.9578 - mae: 10.4456\n",
            "Epoch 17/100\n",
            "10/10 [==============================] - 7s 627ms/step - loss: 9.0387 - mae: 9.5257\n",
            "Epoch 18/100\n",
            "10/10 [==============================] - 6s 624ms/step - loss: 8.3357 - mae: 8.8221\n",
            "Epoch 19/100\n",
            "10/10 [==============================] - 7s 629ms/step - loss: 7.8121 - mae: 8.2977\n",
            "Epoch 20/100\n",
            "10/10 [==============================] - 7s 639ms/step - loss: 7.4308 - mae: 7.9153\n",
            "Epoch 21/100\n",
            "10/10 [==============================] - 7s 626ms/step - loss: 7.1479 - mae: 7.6318\n",
            "Epoch 22/100\n",
            "10/10 [==============================] - 7s 643ms/step - loss: 6.9132 - mae: 7.3967\n",
            "Epoch 23/100\n",
            "10/10 [==============================] - 7s 632ms/step - loss: 6.6990 - mae: 7.1822\n",
            "Epoch 24/100\n",
            "10/10 [==============================] - 7s 639ms/step - loss: 6.4849 - mae: 6.9677\n",
            "Epoch 25/100\n",
            "10/10 [==============================] - 7s 629ms/step - loss: 6.2747 - mae: 6.7569\n",
            "Epoch 26/100\n",
            "10/10 [==============================] - 7s 628ms/step - loss: 6.0694 - mae: 6.5516\n",
            "Epoch 27/100\n",
            "10/10 [==============================] - 7s 627ms/step - loss: 5.8704 - mae: 6.3521\n",
            "Epoch 28/100\n",
            "10/10 [==============================] - 7s 635ms/step - loss: 5.6845 - mae: 6.1656\n",
            "Epoch 29/100\n",
            "10/10 [==============================] - 7s 632ms/step - loss: 5.4981 - mae: 5.9787\n",
            "Epoch 30/100\n",
            "10/10 [==============================] - 7s 629ms/step - loss: 5.3247 - mae: 5.8046\n",
            "Epoch 31/100\n",
            "10/10 [==============================] - 7s 630ms/step - loss: 5.1719 - mae: 5.6513\n",
            "Epoch 32/100\n",
            "10/10 [==============================] - 7s 627ms/step - loss: 5.0096 - mae: 5.4886\n",
            "Epoch 33/100\n",
            "10/10 [==============================] - 7s 625ms/step - loss: 4.8464 - mae: 5.3251\n",
            "Epoch 34/100\n",
            "10/10 [==============================] - 7s 628ms/step - loss: 4.6997 - mae: 5.1774\n",
            "Epoch 35/100\n",
            "10/10 [==============================] - 7s 625ms/step - loss: 4.5455 - mae: 5.0225\n",
            "Epoch 36/100\n",
            "10/10 [==============================] - 7s 625ms/step - loss: 4.3856 - mae: 4.8616\n",
            "Epoch 37/100\n",
            "10/10 [==============================] - 6s 626ms/step - loss: 4.2378 - mae: 4.7126\n",
            "Epoch 38/100\n",
            "10/10 [==============================] - 7s 633ms/step - loss: 4.0778 - mae: 4.5514\n",
            "Epoch 39/100\n",
            "10/10 [==============================] - 7s 623ms/step - loss: 3.9464 - mae: 4.4191\n",
            "Epoch 40/100\n",
            "10/10 [==============================] - 7s 631ms/step - loss: 3.7813 - mae: 4.2527\n",
            "Epoch 41/100\n",
            "10/10 [==============================] - 7s 630ms/step - loss: 3.6479 - mae: 4.1183\n",
            "Epoch 42/100\n",
            "10/10 [==============================] - 7s 627ms/step - loss: 3.5643 - mae: 4.0348\n",
            "Epoch 43/100\n",
            "10/10 [==============================] - 7s 628ms/step - loss: 3.7820 - mae: 4.2560\n",
            "Epoch 44/100\n",
            "10/10 [==============================] - 7s 627ms/step - loss: 3.3740 - mae: 3.8435\n",
            "Epoch 45/100\n",
            "10/10 [==============================] - 7s 627ms/step - loss: 4.8383 - mae: 5.3211\n",
            "Epoch 46/100\n",
            "10/10 [==============================] - 7s 627ms/step - loss: 5.7052 - mae: 6.1943\n",
            "Epoch 47/100\n",
            "10/10 [==============================] - 7s 633ms/step - loss: 6.2086 - mae: 6.6984\n",
            "Epoch 48/100\n",
            "10/10 [==============================] - 7s 635ms/step - loss: 6.6372 - mae: 7.1263\n",
            "Epoch 49/100\n",
            "10/10 [==============================] - 7s 624ms/step - loss: 7.1957 - mae: 7.6828\n",
            "Epoch 50/100\n",
            "10/10 [==============================] - 7s 635ms/step - loss: 8.0268 - mae: 8.5152\n",
            "Epoch 51/100\n",
            "10/10 [==============================] - 7s 627ms/step - loss: 17.1255 - mae: 17.6221\n",
            "Epoch 52/100\n",
            "10/10 [==============================] - 7s 627ms/step - loss: 18.7086 - mae: 19.2075\n",
            "Epoch 53/100\n",
            "10/10 [==============================] - 7s 627ms/step - loss: 19.0261 - mae: 19.5254\n",
            "Epoch 54/100\n",
            "10/10 [==============================] - 6s 623ms/step - loss: 19.6300 - mae: 20.1294\n",
            "Epoch 55/100\n",
            "10/10 [==============================] - 7s 634ms/step - loss: 19.6303 - mae: 20.1293\n",
            "Epoch 56/100\n",
            "10/10 [==============================] - 7s 629ms/step - loss: 20.4808 - mae: 20.9799\n",
            "Epoch 57/100\n",
            "10/10 [==============================] - 6s 623ms/step - loss: 20.8821 - mae: 21.3810\n",
            "Epoch 58/100\n",
            "10/10 [==============================] - 7s 630ms/step - loss: 21.5996 - mae: 22.0992\n",
            "Epoch 59/100\n",
            "10/10 [==============================] - 7s 628ms/step - loss: 21.9462 - mae: 22.4454\n",
            "Epoch 60/100\n",
            "10/10 [==============================] - 6s 627ms/step - loss: 21.9162 - mae: 22.4160\n",
            "Epoch 61/100\n",
            "10/10 [==============================] - 7s 623ms/step - loss: 21.6211 - mae: 22.1208\n",
            "Epoch 62/100\n",
            "10/10 [==============================] - 7s 633ms/step - loss: 21.1046 - mae: 21.6040\n",
            "Epoch 63/100\n",
            "10/10 [==============================] - 7s 632ms/step - loss: 20.8172 - mae: 21.3169\n",
            "Epoch 64/100\n",
            "10/10 [==============================] - 6s 626ms/step - loss: 19.9045 - mae: 20.4041\n",
            "Epoch 65/100\n",
            "10/10 [==============================] - 7s 628ms/step - loss: 19.0506 - mae: 19.5503\n",
            "Epoch 66/100\n",
            "10/10 [==============================] - 7s 635ms/step - loss: 17.3099 - mae: 17.8097\n",
            "Epoch 67/100\n",
            "10/10 [==============================] - 7s 627ms/step - loss: 16.5878 - mae: 17.0876\n",
            "Epoch 68/100\n",
            "10/10 [==============================] - 7s 626ms/step - loss: 14.5777 - mae: 15.0770\n",
            "Epoch 69/100\n",
            "10/10 [==============================] - 6s 624ms/step - loss: 13.9063 - mae: 14.4055\n",
            "Epoch 70/100\n",
            "10/10 [==============================] - 7s 629ms/step - loss: 12.1216 - mae: 12.6205\n",
            "Epoch 71/100\n",
            "10/10 [==============================] - 7s 630ms/step - loss: 11.4985 - mae: 11.9977\n",
            "Epoch 72/100\n",
            "10/10 [==============================] - 7s 632ms/step - loss: 10.2331 - mae: 10.7319\n",
            "Epoch 73/100\n",
            "10/10 [==============================] - 7s 640ms/step - loss: 9.6661 - mae: 10.1650\n",
            "Epoch 74/100\n",
            "10/10 [==============================] - 7s 638ms/step - loss: 8.8198 - mae: 9.3185\n",
            "Epoch 75/100\n",
            "10/10 [==============================] - 7s 633ms/step - loss: 7.9437 - mae: 8.4387\n",
            "Epoch 76/100\n",
            "10/10 [==============================] - 7s 634ms/step - loss: 7.8721 - mae: 8.3673\n",
            "Epoch 77/100\n",
            "10/10 [==============================] - 7s 633ms/step - loss: 8.4794 - mae: 8.9733\n",
            "Epoch 78/100\n",
            "10/10 [==============================] - 7s 634ms/step - loss: 4.3511 - mae: 4.8304\n",
            "Epoch 79/100\n",
            "10/10 [==============================] - 7s 630ms/step - loss: 7.8718 - mae: 8.3541\n",
            "Epoch 80/100\n",
            "10/10 [==============================] - 7s 626ms/step - loss: 19.5042 - mae: 20.0037\n",
            "Epoch 81/100\n",
            "10/10 [==============================] - 7s 631ms/step - loss: 20.2085 - mae: 20.7051\n",
            "Epoch 82/100\n",
            "10/10 [==============================] - 7s 631ms/step - loss: 14.7728 - mae: 15.2658\n",
            "Epoch 83/100\n",
            "10/10 [==============================] - 7s 632ms/step - loss: 12.3907 - mae: 12.8867\n",
            "Epoch 84/100\n",
            "10/10 [==============================] - 7s 628ms/step - loss: 11.6931 - mae: 12.1903\n",
            "Epoch 85/100\n",
            "10/10 [==============================] - 7s 629ms/step - loss: 13.2889 - mae: 13.7879\n",
            "Epoch 86/100\n",
            "10/10 [==============================] - 7s 634ms/step - loss: 14.5613 - mae: 15.0611\n",
            "Epoch 87/100\n",
            "10/10 [==============================] - 7s 630ms/step - loss: 16.1560 - mae: 16.6559\n",
            "Epoch 88/100\n",
            "10/10 [==============================] - 7s 630ms/step - loss: 18.3203 - mae: 18.8203\n",
            "Epoch 89/100\n",
            "10/10 [==============================] - 7s 628ms/step - loss: 20.4749 - mae: 20.9749\n",
            "Epoch 90/100\n",
            "10/10 [==============================] - 7s 638ms/step - loss: 27.0965 - mae: 27.5965\n",
            "Epoch 91/100\n",
            "10/10 [==============================] - 7s 638ms/step - loss: 55.4281 - mae: 55.9256\n",
            "Epoch 92/100\n",
            "10/10 [==============================] - 7s 635ms/step - loss: 58.6270 - mae: 59.1268\n",
            "Epoch 93/100\n",
            "10/10 [==============================] - 7s 632ms/step - loss: 106.1257 - mae: 106.6255\n",
            "Epoch 94/100\n",
            "10/10 [==============================] - 7s 641ms/step - loss: 112.9865 - mae: 113.4822\n",
            "Epoch 95/100\n",
            "10/10 [==============================] - 7s 633ms/step - loss: 40.1404 - mae: 40.6347\n",
            "Epoch 96/100\n",
            "10/10 [==============================] - 7s 648ms/step - loss: 45.3167 - mae: 45.8158\n",
            "Epoch 97/100\n",
            "10/10 [==============================] - 7s 637ms/step - loss: 56.3582 - mae: 56.8581\n",
            "Epoch 98/100\n",
            "10/10 [==============================] - 7s 635ms/step - loss: 63.2122 - mae: 63.7122\n",
            "Epoch 99/100\n",
            "10/10 [==============================] - 7s 638ms/step - loss: 68.4607 - mae: 68.9607\n",
            "Epoch 100/100\n",
            "10/10 [==============================] - 7s 638ms/step - loss: 174.9675 - mae: 175.4675\n"
          ],
          "name": "stdout"
        }
      ]
    },
    {
      "cell_type": "markdown",
      "metadata": {
        "collapsed": false,
        "id": "wryNEsg3OQ-Q"
      },
      "source": [
        "# 6. Actualización del learning rate según los resultados obtenidos del primer entrenamiento de la red neuronal"
      ]
    },
    {
      "cell_type": "markdown",
      "metadata": {
        "collapsed": false,
        "id": "lEtS47TWOd8J"
      },
      "source": [
        "Después del entrenamiento de la red neuronal se ve que learning rate resultante es de 1e-5. Se visualizará gráficamente para entender el motivo por el que se ha usado ese valor. En la gráfica se puede ver cómo el learning rate con el que menos loss hay es 1e-5, y por ese motivo, se debe volver a entrenar la red neuronal con dicho learning rate."
      ]
    },
    {
      "cell_type": "code",
      "metadata": {
        "id": "KpydHm4hYZap",
        "colab": {
          "base_uri": "https://localhost:8080/",
          "height": 290
        },
        "outputId": "47c3c8bc-0e14-4eff-cbfd-625f983450e3"
      },
      "source": [
        "plt.semilogx(history.history[\"lr\"], history.history[\"loss\"])\n",
        "plt.axis([1e-8, 1e-4, 0, 60])"
      ],
      "execution_count": 15,
      "outputs": [
        {
          "output_type": "execute_result",
          "data": {
            "text/plain": [
              "(1e-08, 0.0001, 0.0, 60.0)"
            ]
          },
          "metadata": {
            "tags": []
          },
          "execution_count": 15
        },
        {
          "output_type": "display_data",
          "data": {
            "image/png": "[encoded data removed]",
            "text/plain": [
              "<Figure size 432x288 with 1 Axes>"
            ]
          },
          "metadata": {
            "tags": [],
            "needs_background": "light"
          }
        }
      ]
    },
    {
      "cell_type": "markdown",
      "metadata": {
        "collapsed": false,
        "id": "iJCCYtWUOo3R"
      },
      "source": [
        "Se vuelve a inicializar la sesión de entrenamiento y la variable train_set:"
      ]
    },
    {
      "cell_type": "code",
      "metadata": {
        "id": "zRczRPRJO2hr"
      },
      "source": [
        "tf.keras.backend.clear_session()\n",
        "tf.random.set_seed(51)\n",
        "np.random.seed(51)\n",
        "train_set = windowed_dataset(x_train, window_size=60, batch_size=100, shuffle_buffer=shuffle_buffer_size)"
      ],
      "execution_count": 16,
      "outputs": []
    },
    {
      "cell_type": "markdown",
      "metadata": {
        "collapsed": false,
        "id": "WhM4opUcO9W0"
      },
      "source": [
        "**Ejercicio 6 (0.5 puntos)**: Para crear el nuevo modelo, reutiliza la red neuronal diseñada en el ejercicio 3.2, pero esta vez utilizando 60 filtros en la capa de convolución."
      ]
    },
    {
      "cell_type": "code",
      "metadata": {
        "id": "eGXpMjoxO4eK"
      },
      "source": [
        "## tu código para la red neuronal del ejercicio 6 aquí\n",
        "model = tf.keras.models.Sequential([\n",
        "  tf.keras.layers.Conv1D(60, 5, strides=1, padding=\"causal\", activation='relu', input_shape=(None, 1)),\n",
        "  tf.keras.layers.Bidirectional(tf.keras.layers.LSTM(64, return_sequences=True)),\n",
        "  tf.keras.layers.Bidirectional(tf.keras.layers.LSTM(64, return_sequences=True)),\n",
        "  tf.keras.layers.Dense(30),\n",
        "  tf.keras.layers.Dense(10),\n",
        "  tf.keras.layers.Dense(1),\n",
        "  tf.keras.layers.Lambda(lambda x: x * 400.0)\n",
        "])"
      ],
      "execution_count": 17,
      "outputs": []
    },
    {
      "cell_type": "markdown",
      "metadata": {
        "collapsed": false,
        "id": "jd5wr58SPaet"
      },
      "source": [
        "**Ejercicio 7 (0.5 puntos)**: Se debe volver a compilar la red neuronal de manera análoga a la del ejercicio 5, pero esta vez utilizar un learning rate obtenido de la función callback."
      ]
    },
    {
      "cell_type": "code",
      "metadata": {
        "id": "Q0cVmEu5O7UZ"
      },
      "source": [
        "## tu código para compilar la red neuronal para el ejercicio 7 aquí\n",
        "optimizer = tf.keras.optimizers.SGD(learning_rate=1e-5, momentum=0.9)\n",
        "model.compile(loss=tf.keras.losses.Huber(),\n",
        "              optimizer=optimizer,\n",
        "              metrics=[\"mae\"])"
      ],
      "execution_count": 18,
      "outputs": []
    },
    {
      "cell_type": "code",
      "metadata": {
        "id": "CYrg5kSzYb5i",
        "colab": {
          "base_uri": "https://localhost:8080/"
        },
        "outputId": "5a548bcb-f602-48b6-9389-a85e10af8e8f"
      },
      "source": [
        "history = model.fit(train_set,epochs=150)"
      ],
      "execution_count": 19,
      "outputs": [
        {
          "output_type": "stream",
          "text": [
            "Epoch 1/150\n",
            "25/25 [==============================] - 13s 283ms/step - loss: 115.9179 - mae: 116.4170\n",
            "Epoch 2/150\n",
            "25/25 [==============================] - 7s 283ms/step - loss: 44.2086 - mae: 44.7064\n",
            "Epoch 3/150\n",
            "25/25 [==============================] - 7s 285ms/step - loss: 11.7642 - mae: 12.2592\n",
            "Epoch 4/150\n",
            "25/25 [==============================] - 7s 283ms/step - loss: 8.3664 - mae: 8.8603\n",
            "Epoch 5/150\n",
            "25/25 [==============================] - 7s 283ms/step - loss: 7.4433 - mae: 7.9393\n",
            "Epoch 6/150\n",
            "25/25 [==============================] - 7s 283ms/step - loss: 6.4293 - mae: 6.9238\n",
            "Epoch 7/150\n",
            "25/25 [==============================] - 7s 283ms/step - loss: 5.7537 - mae: 6.2450\n",
            "Epoch 8/150\n",
            "25/25 [==============================] - 7s 285ms/step - loss: 5.1763 - mae: 5.6669\n",
            "Epoch 9/150\n",
            "25/25 [==============================] - 7s 284ms/step - loss: 4.6632 - mae: 5.1517\n",
            "Epoch 10/150\n",
            "25/25 [==============================] - 7s 284ms/step - loss: 3.0772 - mae: 3.5500\n",
            "Epoch 11/150\n",
            "25/25 [==============================] - 7s 283ms/step - loss: 1.5374 - mae: 1.9816\n",
            "Epoch 12/150\n",
            "25/25 [==============================] - 7s 282ms/step - loss: 1.3200 - mae: 1.7558\n",
            "Epoch 13/150\n",
            "25/25 [==============================] - 7s 283ms/step - loss: 1.2451 - mae: 1.6777\n",
            "Epoch 14/150\n",
            "25/25 [==============================] - 7s 285ms/step - loss: 1.1869 - mae: 1.6170\n",
            "Epoch 15/150\n",
            "25/25 [==============================] - 7s 283ms/step - loss: 1.1403 - mae: 1.5682\n",
            "Epoch 16/150\n",
            "25/25 [==============================] - 7s 283ms/step - loss: 1.1049 - mae: 1.5324\n",
            "Epoch 17/150\n",
            "25/25 [==============================] - 7s 287ms/step - loss: 1.0703 - mae: 1.4965\n",
            "Epoch 18/150\n",
            "25/25 [==============================] - 7s 283ms/step - loss: 1.0413 - mae: 1.4666\n",
            "Epoch 19/150\n",
            "25/25 [==============================] - 7s 285ms/step - loss: 1.0172 - mae: 1.4415\n",
            "Epoch 20/150\n",
            "25/25 [==============================] - 7s 283ms/step - loss: 0.9989 - mae: 1.4226\n",
            "Epoch 21/150\n",
            "25/25 [==============================] - 7s 283ms/step - loss: 0.9748 - mae: 1.3972\n",
            "Epoch 22/150\n",
            "25/25 [==============================] - 7s 283ms/step - loss: 0.9591 - mae: 1.3804\n",
            "Epoch 23/150\n",
            "25/25 [==============================] - 7s 286ms/step - loss: 0.9425 - mae: 1.3626\n",
            "Epoch 24/150\n",
            "25/25 [==============================] - 7s 283ms/step - loss: 0.9286 - mae: 1.3478\n",
            "Epoch 25/150\n",
            "25/25 [==============================] - 7s 284ms/step - loss: 0.9192 - mae: 1.3380\n",
            "Epoch 26/150\n",
            "25/25 [==============================] - 7s 285ms/step - loss: 0.9027 - mae: 1.3198\n",
            "Epoch 27/150\n",
            "25/25 [==============================] - 7s 284ms/step - loss: 0.8921 - mae: 1.3086\n",
            "Epoch 28/150\n",
            "25/25 [==============================] - 7s 284ms/step - loss: 0.8829 - mae: 1.2989\n",
            "Epoch 29/150\n",
            "25/25 [==============================] - 7s 284ms/step - loss: 0.8766 - mae: 1.2922\n",
            "Epoch 30/150\n",
            "25/25 [==============================] - 7s 286ms/step - loss: 0.8655 - mae: 1.2803\n",
            "Epoch 31/150\n",
            "25/25 [==============================] - 7s 286ms/step - loss: 0.8595 - mae: 1.2738\n",
            "Epoch 32/150\n",
            "25/25 [==============================] - 7s 284ms/step - loss: 0.8509 - mae: 1.2646\n",
            "Epoch 33/150\n",
            "25/25 [==============================] - 7s 285ms/step - loss: 0.8529 - mae: 1.2670\n",
            "Epoch 34/150\n",
            "25/25 [==============================] - 7s 286ms/step - loss: 0.8436 - mae: 1.2567\n",
            "Epoch 35/150\n",
            "25/25 [==============================] - 7s 285ms/step - loss: 0.8337 - mae: 1.2462\n",
            "Epoch 36/150\n",
            "25/25 [==============================] - 7s 283ms/step - loss: 0.8285 - mae: 1.2404\n",
            "Epoch 37/150\n",
            "25/25 [==============================] - 7s 285ms/step - loss: 0.8202 - mae: 1.2315\n",
            "Epoch 38/150\n",
            "25/25 [==============================] - 7s 285ms/step - loss: 0.8211 - mae: 1.2324\n",
            "Epoch 39/150\n",
            "25/25 [==============================] - 7s 286ms/step - loss: 0.8175 - mae: 1.2292\n",
            "Epoch 40/150\n",
            "25/25 [==============================] - 7s 284ms/step - loss: 0.8037 - mae: 1.2140\n",
            "Epoch 41/150\n",
            "25/25 [==============================] - 7s 285ms/step - loss: 0.7984 - mae: 1.2082\n",
            "Epoch 42/150\n",
            "25/25 [==============================] - 7s 285ms/step - loss: 0.7917 - mae: 1.2008\n",
            "Epoch 43/150\n",
            "25/25 [==============================] - 7s 288ms/step - loss: 0.7936 - mae: 1.2031\n",
            "Epoch 44/150\n",
            "25/25 [==============================] - 7s 287ms/step - loss: 0.7877 - mae: 1.1968\n",
            "Epoch 45/150\n",
            "25/25 [==============================] - 7s 285ms/step - loss: 0.7797 - mae: 1.1881\n",
            "Epoch 46/150\n",
            "25/25 [==============================] - 7s 287ms/step - loss: 0.7706 - mae: 1.1778\n",
            "Epoch 47/150\n",
            "25/25 [==============================] - 7s 290ms/step - loss: 0.7660 - mae: 1.1729\n",
            "Epoch 48/150\n",
            "25/25 [==============================] - 7s 283ms/step - loss: 0.7620 - mae: 1.1685\n",
            "Epoch 49/150\n",
            "25/25 [==============================] - 7s 285ms/step - loss: 0.7573 - mae: 1.1636\n",
            "Epoch 50/150\n",
            "25/25 [==============================] - 7s 283ms/step - loss: 0.7527 - mae: 1.1582\n",
            "Epoch 51/150\n",
            "25/25 [==============================] - 7s 287ms/step - loss: 0.7500 - mae: 1.1555\n",
            "Epoch 52/150\n",
            "25/25 [==============================] - 7s 287ms/step - loss: 0.7552 - mae: 1.1619\n",
            "Epoch 53/150\n",
            "25/25 [==============================] - 7s 285ms/step - loss: 0.7424 - mae: 1.1476\n",
            "Epoch 54/150\n",
            "25/25 [==============================] - 7s 286ms/step - loss: 0.7417 - mae: 1.1474\n",
            "Epoch 55/150\n",
            "25/25 [==============================] - 7s 286ms/step - loss: 0.7333 - mae: 1.1375\n",
            "Epoch 56/150\n",
            "25/25 [==============================] - 7s 284ms/step - loss: 0.7480 - mae: 1.1547\n",
            "Epoch 57/150\n",
            "25/25 [==============================] - 7s 285ms/step - loss: 0.7281 - mae: 1.1318\n",
            "Epoch 58/150\n",
            "25/25 [==============================] - 7s 287ms/step - loss: 0.7232 - mae: 1.1265\n",
            "Epoch 59/150\n",
            "25/25 [==============================] - 7s 288ms/step - loss: 0.7107 - mae: 1.1127\n",
            "Epoch 60/150\n",
            "25/25 [==============================] - 7s 286ms/step - loss: 0.7094 - mae: 1.1116\n",
            "Epoch 61/150\n",
            "25/25 [==============================] - 7s 292ms/step - loss: 0.7214 - mae: 1.1251\n",
            "Epoch 62/150\n",
            "25/25 [==============================] - 7s 288ms/step - loss: 0.7249 - mae: 1.1291\n",
            "Epoch 63/150\n",
            "25/25 [==============================] - 7s 285ms/step - loss: 0.7040 - mae: 1.1061\n",
            "Epoch 64/150\n",
            "25/25 [==============================] - 7s 287ms/step - loss: 0.6948 - mae: 1.0959\n",
            "Epoch 65/150\n",
            "25/25 [==============================] - 7s 289ms/step - loss: 0.7357 - mae: 1.1427\n",
            "Epoch 66/150\n",
            "25/25 [==============================] - 7s 289ms/step - loss: 0.7282 - mae: 1.1340\n",
            "Epoch 67/150\n",
            "25/25 [==============================] - 7s 288ms/step - loss: 0.6766 - mae: 1.0750\n",
            "Epoch 68/150\n",
            "25/25 [==============================] - 7s 287ms/step - loss: 0.7424 - mae: 1.1503\n",
            "Epoch 69/150\n",
            "25/25 [==============================] - 7s 286ms/step - loss: 0.7532 - mae: 1.1616\n",
            "Epoch 70/150\n",
            "25/25 [==============================] - 7s 289ms/step - loss: 0.7618 - mae: 1.1716\n",
            "Epoch 71/150\n",
            "25/25 [==============================] - 7s 284ms/step - loss: 0.7449 - mae: 1.1532\n",
            "Epoch 72/150\n",
            "25/25 [==============================] - 7s 287ms/step - loss: 0.7641 - mae: 1.1749\n",
            "Epoch 73/150\n",
            "25/25 [==============================] - 7s 288ms/step - loss: 0.7510 - mae: 1.1597\n",
            "Epoch 74/150\n",
            "25/25 [==============================] - 7s 288ms/step - loss: 0.7383 - mae: 1.1457\n",
            "Epoch 75/150\n",
            "25/25 [==============================] - 7s 288ms/step - loss: 0.7441 - mae: 1.1525\n",
            "Epoch 76/150\n",
            "25/25 [==============================] - 7s 286ms/step - loss: 0.7582 - mae: 1.1695\n",
            "Epoch 77/150\n",
            "25/25 [==============================] - 7s 285ms/step - loss: 0.7374 - mae: 1.1449\n",
            "Epoch 78/150\n",
            "25/25 [==============================] - 7s 286ms/step - loss: 0.7273 - mae: 1.1339\n",
            "Epoch 79/150\n",
            "25/25 [==============================] - 7s 288ms/step - loss: 0.7710 - mae: 1.1835\n",
            "Epoch 80/150\n",
            "25/25 [==============================] - 7s 290ms/step - loss: 0.7290 - mae: 1.1360\n",
            "Epoch 81/150\n",
            "25/25 [==============================] - 7s 291ms/step - loss: 0.7654 - mae: 1.1768\n",
            "Epoch 82/150\n",
            "25/25 [==============================] - 7s 285ms/step - loss: 0.7393 - mae: 1.1467\n",
            "Epoch 83/150\n",
            "25/25 [==============================] - 7s 289ms/step - loss: 0.7573 - mae: 1.1685\n",
            "Epoch 84/150\n",
            "25/25 [==============================] - 7s 285ms/step - loss: 0.7574 - mae: 1.1682\n",
            "Epoch 85/150\n",
            "25/25 [==============================] - 7s 287ms/step - loss: 0.7749 - mae: 1.1887\n",
            "Epoch 86/150\n",
            "25/25 [==============================] - 7s 288ms/step - loss: 0.7468 - mae: 1.1579\n",
            "Epoch 87/150\n",
            "25/25 [==============================] - 7s 289ms/step - loss: 0.7744 - mae: 1.1878\n",
            "Epoch 88/150\n",
            "25/25 [==============================] - 7s 286ms/step - loss: 0.7510 - mae: 1.1620\n",
            "Epoch 89/150\n",
            "25/25 [==============================] - 7s 287ms/step - loss: 0.7665 - mae: 1.1791\n",
            "Epoch 90/150\n",
            "25/25 [==============================] - 7s 287ms/step - loss: 0.7291 - mae: 1.1370\n",
            "Epoch 91/150\n",
            "25/25 [==============================] - 7s 285ms/step - loss: 0.7757 - mae: 1.1903\n",
            "Epoch 92/150\n",
            "25/25 [==============================] - 7s 289ms/step - loss: 0.7600 - mae: 1.1729\n",
            "Epoch 93/150\n",
            "25/25 [==============================] - 7s 286ms/step - loss: 0.7483 - mae: 1.1601\n",
            "Epoch 94/150\n",
            "25/25 [==============================] - 7s 287ms/step - loss: 0.7281 - mae: 1.1362\n",
            "Epoch 95/150\n",
            "25/25 [==============================] - 7s 286ms/step - loss: 0.7449 - mae: 1.1560\n",
            "Epoch 96/150\n",
            "25/25 [==============================] - 7s 283ms/step - loss: 0.7591 - mae: 1.1724\n",
            "Epoch 97/150\n",
            "25/25 [==============================] - 7s 285ms/step - loss: 0.7534 - mae: 1.1660\n",
            "Epoch 98/150\n",
            "25/25 [==============================] - 7s 284ms/step - loss: 0.6948 - mae: 1.0996\n",
            "Epoch 99/150\n",
            "25/25 [==============================] - 7s 285ms/step - loss: 0.7060 - mae: 1.1125\n",
            "Epoch 100/150\n",
            "25/25 [==============================] - 7s 290ms/step - loss: 0.7227 - mae: 1.1318\n",
            "Epoch 101/150\n",
            "25/25 [==============================] - 7s 286ms/step - loss: 0.6964 - mae: 1.1010\n",
            "Epoch 102/150\n",
            "25/25 [==============================] - 7s 289ms/step - loss: 0.7197 - mae: 1.1278\n",
            "Epoch 103/150\n",
            "25/25 [==============================] - 7s 288ms/step - loss: 0.7090 - mae: 1.1145\n",
            "Epoch 104/150\n",
            "25/25 [==============================] - 7s 286ms/step - loss: 0.7344 - mae: 1.1458\n",
            "Epoch 105/150\n",
            "25/25 [==============================] - 7s 288ms/step - loss: 0.7327 - mae: 1.1426\n",
            "Epoch 106/150\n",
            "25/25 [==============================] - 7s 286ms/step - loss: 0.7419 - mae: 1.1536\n",
            "Epoch 107/150\n",
            "25/25 [==============================] - 7s 286ms/step - loss: 0.7298 - mae: 1.1410\n",
            "Epoch 108/150\n",
            "25/25 [==============================] - 7s 287ms/step - loss: 0.6501 - mae: 1.0491\n",
            "Epoch 109/150\n",
            "25/25 [==============================] - 7s 286ms/step - loss: 0.7325 - mae: 1.1439\n",
            "Epoch 110/150\n",
            "25/25 [==============================] - 7s 285ms/step - loss: 0.7504 - mae: 1.1643\n",
            "Epoch 111/150\n",
            "25/25 [==============================] - 7s 285ms/step - loss: 0.7199 - mae: 1.1299\n",
            "Epoch 112/150\n",
            "25/25 [==============================] - 7s 285ms/step - loss: 0.7347 - mae: 1.1469\n",
            "Epoch 113/150\n",
            "25/25 [==============================] - 7s 285ms/step - loss: 0.7327 - mae: 1.1453\n",
            "Epoch 114/150\n",
            "25/25 [==============================] - 7s 283ms/step - loss: 0.7234 - mae: 1.1346\n",
            "Epoch 115/150\n",
            "25/25 [==============================] - 7s 285ms/step - loss: 0.6724 - mae: 1.0758\n",
            "Epoch 116/150\n",
            "25/25 [==============================] - 7s 285ms/step - loss: 0.7189 - mae: 1.1303\n",
            "Epoch 117/150\n",
            "25/25 [==============================] - 7s 287ms/step - loss: 0.7061 - mae: 1.1155\n",
            "Epoch 118/150\n",
            "25/25 [==============================] - 7s 288ms/step - loss: 0.6737 - mae: 1.0775\n",
            "Epoch 119/150\n",
            "25/25 [==============================] - 7s 288ms/step - loss: 0.7127 - mae: 1.1234\n",
            "Epoch 120/150\n",
            "25/25 [==============================] - 7s 286ms/step - loss: 0.7071 - mae: 1.1174\n",
            "Epoch 121/150\n",
            "25/25 [==============================] - 7s 285ms/step - loss: 0.6457 - mae: 1.0453\n",
            "Epoch 122/150\n",
            "25/25 [==============================] - 7s 290ms/step - loss: 0.6652 - mae: 1.0681\n",
            "Epoch 123/150\n",
            "25/25 [==============================] - 7s 285ms/step - loss: 0.6583 - mae: 1.0605\n",
            "Epoch 124/150\n",
            "25/25 [==============================] - 7s 286ms/step - loss: 0.6903 - mae: 1.0975\n",
            "Epoch 125/150\n",
            "25/25 [==============================] - 7s 289ms/step - loss: 0.6804 - mae: 1.0856\n",
            "Epoch 126/150\n",
            "25/25 [==============================] - 7s 287ms/step - loss: 0.6776 - mae: 1.0839\n",
            "Epoch 127/150\n",
            "25/25 [==============================] - 7s 287ms/step - loss: 0.6964 - mae: 1.1059\n",
            "Epoch 128/150\n",
            "25/25 [==============================] - 7s 286ms/step - loss: 0.6411 - mae: 1.0404\n",
            "Epoch 129/150\n",
            "25/25 [==============================] - 7s 285ms/step - loss: 0.6457 - mae: 1.0466\n",
            "Epoch 130/150\n",
            "25/25 [==============================] - 7s 287ms/step - loss: 0.6545 - mae: 1.0570\n",
            "Epoch 131/150\n",
            "25/25 [==============================] - 7s 287ms/step - loss: 0.6911 - mae: 1.1003\n",
            "Epoch 132/150\n",
            "25/25 [==============================] - 7s 287ms/step - loss: 0.6525 - mae: 1.0551\n",
            "Epoch 133/150\n",
            "25/25 [==============================] - 7s 286ms/step - loss: 0.6785 - mae: 1.0849\n",
            "Epoch 134/150\n",
            "25/25 [==============================] - 7s 287ms/step - loss: 0.6653 - mae: 1.0716\n",
            "Epoch 135/150\n",
            "25/25 [==============================] - 7s 291ms/step - loss: 0.6807 - mae: 1.0881\n",
            "Epoch 136/150\n",
            "25/25 [==============================] - 7s 290ms/step - loss: 0.6739 - mae: 1.0807\n",
            "Epoch 137/150\n",
            "25/25 [==============================] - 7s 287ms/step - loss: 0.6489 - mae: 1.0518\n",
            "Epoch 138/150\n",
            "25/25 [==============================] - 7s 289ms/step - loss: 0.6253 - mae: 1.0239\n",
            "Epoch 139/150\n",
            "25/25 [==============================] - 7s 287ms/step - loss: 0.6540 - mae: 1.0574\n",
            "Epoch 140/150\n",
            "25/25 [==============================] - 7s 286ms/step - loss: 0.6397 - mae: 1.0415\n",
            "Epoch 141/150\n",
            "25/25 [==============================] - 7s 288ms/step - loss: 0.6850 - mae: 1.0941\n",
            "Epoch 142/150\n",
            "25/25 [==============================] - 7s 287ms/step - loss: 0.6517 - mae: 1.0557\n",
            "Epoch 143/150\n",
            "25/25 [==============================] - 7s 286ms/step - loss: 0.6635 - mae: 1.0701\n",
            "Epoch 144/150\n",
            "25/25 [==============================] - 7s 286ms/step - loss: 0.6495 - mae: 1.0540\n",
            "Epoch 145/150\n",
            "25/25 [==============================] - 7s 287ms/step - loss: 0.6324 - mae: 1.0334\n",
            "Epoch 146/150\n",
            "25/25 [==============================] - 7s 289ms/step - loss: 0.6324 - mae: 1.0341\n",
            "Epoch 147/150\n",
            "25/25 [==============================] - 7s 292ms/step - loss: 0.6264 - mae: 1.0268\n",
            "Epoch 148/150\n",
            "25/25 [==============================] - 7s 286ms/step - loss: 0.6504 - mae: 1.0557\n",
            "Epoch 149/150\n",
            "25/25 [==============================] - 7s 287ms/step - loss: 0.6618 - mae: 1.0690\n",
            "Epoch 150/150\n",
            "25/25 [==============================] - 7s 287ms/step - loss: 0.6287 - mae: 1.0307\n"
          ],
          "name": "stdout"
        }
      ]
    },
    {
      "cell_type": "markdown",
      "metadata": {
        "collapsed": false,
        "id": "dE59CkauRD_o"
      },
      "source": [
        "# 7. Predicción de los siguientes valores de la serie temporal"
      ]
    },
    {
      "cell_type": "markdown",
      "metadata": {
        "collapsed": false,
        "id": "ati5x7OfReWH"
      },
      "source": [
        "Para concluir la actividad, se usa el método model_forecast que se ha diseñado utilizando el método de la ventana temporal para hacer el nuevo metodo rnn_forecast con el cual se calcularán los nuevos valores de la serie temporal. Posteriormente, se pinta una gráfica para ver esos resultados y comprobar de forma visual que son correctos. Además, se dan los resultados de esas predicciones en forma númerica, de esta forma, este modelo diseñado en esta actividad podría ser el input de un nuevo algoritmo si fuera necesario."
      ]
    },
    {
      "cell_type": "code",
      "metadata": {
        "id": "RWB79gRyYdvB"
      },
      "source": [
        "rnn_forecast = model_forecast(model, series[..., np.newaxis], window_size)\n",
        "rnn_forecast = rnn_forecast[split_time - window_size: ]"
      ],
      "execution_count": 40,
      "outputs": []
    },
    {
      "cell_type": "code",
      "metadata": {
        "id": "znqXG5HZtbZy"
      },
      "source": [
        "results = np.array(rnn_forecast)[:, 0, 0]"
      ],
      "execution_count": 41,
      "outputs": []
    },
    {
      "cell_type": "code",
      "metadata": {
        "id": "OrMdV-SnYiCG",
        "colab": {
          "base_uri": "https://localhost:8080/",
          "height": 389
        },
        "outputId": "d8857dea-c884-44fc-8c4e-ab6fe3f29aa6"
      },
      "source": [
        "plt.figure(figsize=(10, 6))\n",
        "plot_series(time_valid, x_valid)\n",
        "#plot_series(time_valid, rnn_forecast)\n",
        "plot_series(time_valid, results)"
      ],
      "execution_count": 42,
      "outputs": [
        {
          "output_type": "display_data",
          "data": {
            "image/png": "[encoded data removed]",
            "text/plain": [
              "<Figure size 720x432 with 1 Axes>"
            ]
          },
          "metadata": {
            "tags": [],
            "needs_background": "light"
          }
        }
      ]
    },
    {
      "cell_type": "code",
      "metadata": {
        "id": "bpa88mPVYj27",
        "colab": {
          "base_uri": "https://localhost:8080/"
        },
        "outputId": "0b35283d-c2cd-400d-d3ba-d30e64e02772"
      },
      "source": [
        "tf.keras.metrics.mean_absolute_error(x_valid, rnn_forecast).numpy()"
      ],
      "execution_count": 43,
      "outputs": [
        {
          "output_type": "execute_result",
          "data": {
            "text/plain": [
              "array([[[5.696029 , 4.65039  , 3.724114 , ..., 3.2530866, 3.291032 ,\n",
              "         3.2711456]],\n",
              "\n",
              "       [[4.8321776, 3.45388  , 3.4194248, ..., 3.2906814, 3.2735198,\n",
              "         3.2608712]],\n",
              "\n",
              "       [[3.9261217, 3.389185 , 3.4591813, ..., 3.3208263, 3.2793207,\n",
              "         3.2558796]],\n",
              "\n",
              "       ...,\n",
              "\n",
              "       [[4.2587023, 6.1242547, 5.1228056, ..., 4.4395666, 3.9261427,\n",
              "         3.5309203]],\n",
              "\n",
              "       [[5.2045155, 5.6870923, 4.2163   , ..., 4.031483 , 3.9024084,\n",
              "         3.6400177]],\n",
              "\n",
              "       [[4.517057 , 4.191377 , 4.5395374, ..., 4.278876 , 4.7071667,\n",
              "         3.9620457]]], dtype=float32)"
            ]
          },
          "metadata": {
            "tags": []
          },
          "execution_count": 43
        }
      ]
    },
    {
      "cell_type": "markdown",
      "metadata": {
        "collapsed": false,
        "id": "46vKm-K1RVrl"
      },
      "source": [
        "# 8. Mostrar gráficamente los resultados.\n",
        "\n",
        "Una vez obtenido el resultado de la actividad, se procede a revisr de forma gráfica el training y validation loss a lo largo de los epochs en este nuevo entrenamiento con el learning rate optimizado."
      ]
    },
    {
      "cell_type": "code",
      "metadata": {
        "id": "YwQvZC6wlaTi"
      },
      "source": [
        "import matplotlib.image  as mpimg\n",
        "import matplotlib.pyplot as plt\n",
        "\n",
        "#-----------------------------------------------------------\n",
        "# Recuperar una lista de resultados de la lista de datos de entrenamiento y pruebas para cada epoch de entrenamiento\n",
        "#-----------------------------------------------------------\n",
        "loss=history.history['loss']\n",
        "\n",
        "epochs=range(len(loss)) # Get number of epochs"
      ],
      "execution_count": 45,
      "outputs": []
    },
    {
      "cell_type": "markdown",
      "metadata": {
        "collapsed": false,
        "id": "CAEJ3vP3lbz9"
      },
      "source": [
        "A continuación se realiza el plot de la pérdida frente a los epochs"
      ]
    },
    {
      "cell_type": "code",
      "metadata": {
        "id": "yKwWOTYCl4Ib",
        "colab": {
          "base_uri": "https://localhost:8080/",
          "height": 329
        },
        "outputId": "87a2aa13-9373-41c5-80df-d2a39e542b72"
      },
      "source": [
        "#------------------------------------------------\n",
        "# Pérdida de entrenamiento y validación por epoch\n",
        "#------------------------------------------------\n",
        "plt.plot(epochs, loss, 'r')\n",
        "plt.title('Training loss')\n",
        "plt.xlabel(\"Epochs\")\n",
        "plt.ylabel(\"Loss\")\n",
        "plt.legend([\"Loss\"])\n",
        "\n",
        "plt.figure()"
      ],
      "execution_count": 46,
      "outputs": [
        {
          "output_type": "execute_result",
          "data": {
            "text/plain": [
              "<Figure size 432x288 with 0 Axes>"
            ]
          },
          "metadata": {
            "tags": []
          },
          "execution_count": 46
        },
        {
          "output_type": "display_data",
          "data": {
            "image/png": "[encoded data removed]",
            "text/plain": [
              "<Figure size 432x288 with 1 Axes>"
            ]
          },
          "metadata": {
            "tags": [],
            "needs_background": "light"
          }
        },
        {
          "output_type": "display_data",
          "data": {
            "text/plain": [
              "<Figure size 432x288 with 0 Axes>"
            ]
          },
          "metadata": {
            "tags": []
          }
        }
      ]
    },
    {
      "cell_type": "markdown",
      "metadata": {
        "collapsed": false,
        "id": "Xw4817Otl6A6"
      },
      "source": [
        "**Ejercicio 8 (0.5 punto)**: Utilizando las 2 nuevas variables zoomed_loss y zoomed_epochs y con base en el código anterior, hacer el plot del loss frente a los epochs entre los epoch 20 y 150 para ver como va oscilando y no es un proceso lineal como podria parecer según el anterior plot."
      ]
    },
    {
      "cell_type": "code",
      "metadata": {
        "id": "gh6OToWdAggR",
        "colab": {
          "base_uri": "https://localhost:8080/",
          "height": 329
        },
        "outputId": "1de9299a-6573-4872-c336-d6a4f5034837"
      },
      "source": [
        "#------------------------------------------------\n",
        "# Pérdida de entrenamiento y validación por epoch con zoom\n",
        "#------------------------------------------------\n",
        "zoomed_loss = loss[20:]\n",
        "zoomed_epochs = range(20,150)\n",
        "#\n",
        "## tu código para el plot con zoom del ejercicio 8 aquí\n",
        "plt.plot(zoomed_epochs, zoomed_loss, 'r')\n",
        "plt.title('Zoomed training loss')\n",
        "plt.xlabel(\"Zoomed epochs\")\n",
        "plt.ylabel(\"Zoomed loss\")\n",
        "plt.legend([\"Zoomed loss\"])\n",
        "\n",
        "plt.figure()"
      ],
      "execution_count": 47,
      "outputs": [
        {
          "output_type": "execute_result",
          "data": {
            "text/plain": [
              "<Figure size 432x288 with 0 Axes>"
            ]
          },
          "metadata": {
            "tags": []
          },
          "execution_count": 47
        },
        {
          "output_type": "display_data",
          "data": {
            "image/png": "[encoded data removed]",
            "text/plain": [
              "<Figure size 432x288 with 1 Axes>"
            ]
          },
          "metadata": {
            "tags": [],
            "needs_background": "light"
          }
        },
        {
          "output_type": "display_data",
          "data": {
            "text/plain": [
              "<Figure size 432x288 with 0 Axes>"
            ]
          },
          "metadata": {
            "tags": []
          }
        }
      ]
    },
    {
      "cell_type": "code",
      "metadata": {
        "id": "R2dC8kwdfPH1"
      },
      "source": [
        ""
      ],
      "execution_count": null,
      "outputs": []
    }
  ]
}